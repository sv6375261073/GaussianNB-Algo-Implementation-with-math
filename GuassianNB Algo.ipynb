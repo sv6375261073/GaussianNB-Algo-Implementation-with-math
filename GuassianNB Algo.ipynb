{
 "cells": [
  {
   "cell_type": "code",
   "execution_count": 40,
   "metadata": {},
   "outputs": [],
   "source": [
    "import numpy as np\n",
    "import pandas as pd\n",
    "import math"
   ]
  },
  {
   "cell_type": "code",
   "execution_count": 2,
   "metadata": {},
   "outputs": [],
   "source": [
    "height1=[130,125,140,135,132]\n",
    "weight1=[40,38,41,39,34]\n",
    "height2=[170,155,160]\n",
    "weight2=[50,48,42]\n",
    "df1=pd.DataFrame({'height':height1,'weight':weight1})\n",
    "df2=pd.DataFrame({'height':height2,'weight':weight2})"
   ]
  },
  {
   "cell_type": "code",
   "execution_count": 43,
   "metadata": {},
   "outputs": [],
   "source": [
    "column_name=list(df1.head(0))"
   ]
  },
  {
   "cell_type": "code",
   "execution_count": 61,
   "metadata": {},
   "outputs": [],
   "source": [
    "mean_matrix_A=np.array([df1[col].to_numpy().mean() for col in column_name])\n",
    "mean_matrix_B=np.array([df2[col].to_numpy().mean() for col in column_name])"
   ]
  },
  {
   "cell_type": "code",
   "execution_count": 62,
   "metadata": {},
   "outputs": [],
   "source": [
    "def varience(df):\n",
    "    n=len(df)\n",
    "    df=df.to_numpy()\n",
    "    mean=df.mean()\n",
    "    try:\n",
    "        varience_matrix=((df-mean)**2).sum()/(n-1)\n",
    "    except Exception:\n",
    "        print(\"data should be in DataFrame object \")\n",
    "    return varience_matrix"
   ]
  },
  {
   "cell_type": "code",
   "execution_count": 63,
   "metadata": {},
   "outputs": [],
   "source": [
    "def co_varience(col1,col2):\n",
    "    n=len(col1)\n",
    "    col1=np.array(col1)\n",
    "    mean1=col1.mean()\n",
    "    col2=np.array(col2)\n",
    "    mean2=col2.mean()\n",
    "    try:\n",
    "        co_varience_matrix=((col1-mean1)*(col2-mean2)).sum()/(n-1)\n",
    "    except Exception:\n",
    "        print(\"data should be in DataFrame object \")\n",
    "    return co_varience_matrix"
   ]
  },
  {
   "cell_type": "code",
   "execution_count": 64,
   "metadata": {},
   "outputs": [],
   "source": [
    "v=[[varience(df1[column_name[0]]),co_varience(df1[column_name[0]],df1[column_name[1]])],[co_varience(df1[column_name[0]],df1[column_name[1]]),varience(df1[column_name[1]])]]"
   ]
  },
  {
   "cell_type": "code",
   "execution_count": 65,
   "metadata": {},
   "outputs": [],
   "source": [
    "def Gaussian(sample,mean_matrix,v):\n",
    "    pi=3.414\n",
    "    e=2.712\n",
    "    p_x_A=(1/(2*pi)**n/2)*e**(-1/2*(np.matmul((sample-mean_matrix),np.matmul(np.linalg.inv(v),(sample-mean_matrix)))))\n",
    "    return p_x_A"
   ]
  },
  {
   "cell_type": "code",
   "execution_count": 74,
   "metadata": {},
   "outputs": [
    {
     "name": "stdout",
     "output_type": "stream",
     "text": [
      "Enter sample : 120 87\n",
      "************sample belongs to class A**************\n"
     ]
    }
   ],
   "source": [
    "sample=np.array(input(\"Enter sample : \").split(),dtype=float)\n",
    "pxa=Gaussian(sample,mean_matrix_A,v)\n",
    "pxb=Gaussian(sample,mean_matrix_B,v)\n",
    "if pxa>pxb:\n",
    "    print(\"************sample belongs to class A**************\")\n",
    "else:\n",
    "    print(\"************sample belongs to class B**************\")"
   ]
  }
 ],
 "metadata": {
  "kernelspec": {
   "display_name": "Python 3",
   "language": "python",
   "name": "python3"
  },
  "language_info": {
   "codemirror_mode": {
    "name": "ipython",
    "version": 3
   },
   "file_extension": ".py",
   "mimetype": "text/x-python",
   "name": "python",
   "nbconvert_exporter": "python",
   "pygments_lexer": "ipython3",
   "version": "3.7.4"
  }
 },
 "nbformat": 4,
 "nbformat_minor": 2
}
